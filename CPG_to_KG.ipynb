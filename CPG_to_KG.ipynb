{
 "cells": [
  {
   "cell_type": "markdown",
   "source": [
    "# Clinical Practice Guideline (CPG) to Knowledge Graph\n",
    "\n",
    "This notebook loads a section of the AAP's [Clinical Practice Guideline for Screening and Management of High Blood Pressure in Children and Adolescents](https://publications.aap.org/pediatrics/article/140/3/e20171904/38358/Clinical-Practice-Guideline-for-Screening-and?autologincheck=redirected) into a Graph DB and then uses an LLM to enrich it. The section used is \"4.3 Patient Management on the Basis of Office BP\". The text for this section is provided in `./BP_Ped_graph.txt`, it has been converted into Cypher in `./BP_Ped_graph.cy`.\n",
    "\n",
    "You can then use the code in `./KG_to_BPM.ipynb` to create a BPMN XML from the graph. \n",
    "\n",
    "This notebook is configured to use Llama 3 via Ollama. It could be changed to use other LLMs (see Define Method to Call LLM). \n",
    "\n",
    "## Disclaimer\n",
    "Nothing provided here is guaranteed or warrantied to work. It is provided as is. Using this notebook is at the risk of the user. \n",
    "\n",
    "The CPG used is published by the American Academy of Pediatrics and is solly their product. Nothing here should be inferred to supersede what it says. \n",
    "\n",
    "**Nothing here should be used for delivering care.** It is in no way certified by any credited medical organization or professional. It is provided solly for research purposes.\n",
    "\n",
    "## SETUP\n",
    "\n",
    "### 1. Neo4J\n",
    "This notebook needs an instance of [Neo4J](https://www.neo4j.com) to talk to. I used Neo4J's desktop app, but you could use docker to run Neo4J locally using the following command:\n",
    "```\n",
    "docker run --name testneo4j -p7474:7474 -p7687:7687 -d \\\n",
    "    -v $HOME/neo4j/data:/data \\\n",
    "    -v $HOME/neo4j/logs:/logs \\\n",
    "    -v $HOME/neo4j/import:/var/lib/neo4j/import \\\n",
    "    -v $HOME/neo4j/plugins:/plugins \\\n",
    "    --env NEO4J_AUTH=neo4j/password \\\n",
    "    neo4j:latest\n",
    "``` \n",
    "\n",
    "Or you can also use a Neo4J Aurora instance. \n",
    "\n",
    "### 2. Jupyter Environment for DB Connection\n",
    "\n",
    "In order for the code to connect to the DB it needs certain environment variables to be defined in the Jupyter runtime. This avoids checking in credentials to GitHub. \n",
    "\n",
    "| Variable     | Description                          | Sample Value          |\n",
    "|--------------|--------------------------------------|-----------------------|\n",
    "| CPG_URL      | Where to find the instance of Neo4j. | bolt://localhost:7687 |\n",
    "| CPG_USER     | The username for the database.       | neo4j                 |\n",
    "| CPG_PASSWORD | The password for the database.       | password              |\n",
    "| CPG_DATABASE | The name of the database instance.   | neo4j                 |\n",
    "\n",
    "\n",
    "### 3. Ollama\n",
    "This notebook uses [Ollama](https://ollama.ai/) to run LLM models locally. It could be modified to use OpenAI, sample code below, or any other LLM, left to user to do. To use this notebook as is, you will need ot install Ollama. \n"
   ],
   "metadata": {
    "collapsed": false
   },
   "id": "a0755d6d6efdfc19"
  },
  {
   "cell_type": "markdown",
   "source": [
    "## Install Python Libraries\n",
    "\n",
    "This cell installs some needed libraries."
   ],
   "metadata": {
    "collapsed": false
   },
   "id": "d4855a20009c1349"
  },
  {
   "cell_type": "code",
   "execution_count": null,
   "outputs": [],
   "source": [
    "!pip3 install ollama\n",
    "!pip3 install neo4j"
   ],
   "metadata": {
    "collapsed": false
   },
   "id": "b5541ffac6e68db0"
  },
  {
   "cell_type": "markdown",
   "source": [
    "## Import Python Libraries"
   ],
   "metadata": {
    "collapsed": false
   },
   "id": "ff5ec28e7d79b2d9"
  },
  {
   "cell_type": "code",
   "execution_count": null,
   "outputs": [],
   "source": [
    "import os\n",
    "import re\n",
    "\n",
    "import ollama\n",
    "\n",
    "import NEO4J_Graph"
   ],
   "metadata": {
    "collapsed": false
   },
   "id": "d6ce316eeadc39df"
  },
  {
   "cell_type": "markdown",
   "source": [
    "## Connect to the Graph DB\n",
    "\n",
    "This cell establishes the connection to the Graph DB (see Setup 1 & 2 above)."
   ],
   "metadata": {
    "collapsed": false
   },
   "id": "78e5d0b7d1c826cc"
  },
  {
   "cell_type": "code",
   "execution_count": null,
   "id": "initial_id",
   "metadata": {
    "collapsed": true
   },
   "outputs": [],
   "source": [
    "NEO4J_URI = os.getenv('CPG_URL')\n",
    "USERNAME = os.getenv('CPG_USER')\n",
    "PASSWORD = os.getenv('CPG_PASSWORD')\n",
    "DATABASE = os.getenv('CPG_DATABASE')\n",
    "\n",
    "graph = NEO4J_Graph.Graph(NEO4J_URI, USERNAME, PASSWORD, DATABASE)"
   ]
  },
  {
   "cell_type": "markdown",
   "source": [
    "## Delete All Nodes & Edges from the Graph DB\n",
    "\n",
    "This cell will clear the DB. This is useful when repeating the process. "
   ],
   "metadata": {
    "collapsed": false
   },
   "id": "d651a1c5d1ccf141"
  },
  {
   "cell_type": "code",
   "execution_count": null,
   "outputs": [],
   "source": [
    "graph.wipe_database()"
   ],
   "metadata": {
    "collapsed": false
   },
   "id": "81309feabc3e3753"
  },
  {
   "cell_type": "markdown",
   "source": [
    "## Load the CPG Section into Graph DB\n",
    "\n",
    "This uses a Cypher script to load the section of the CPG into Graph DB."
   ],
   "metadata": {
    "collapsed": false
   },
   "id": "c67684331390d723"
  },
  {
   "cell_type": "code",
   "execution_count": null,
   "outputs": [],
   "source": [
    "with open('BP_Ped_graph.cy') as file:\n",
    "    for statement in file.read().split(';\\n'):\n",
    "        if statement.strip():\n",
    "            graph.query(statement)\n",
    "\n",
    "graph.database_metrics()"
   ],
   "metadata": {
    "collapsed": false
   },
   "id": "85cfd1675d27d9c1"
  },
  {
   "cell_type": "markdown",
   "source": [
    "## Find Relevant Nodes\n",
    "\n",
    "The nodes we want to enrich are the ones that have text properties. This cell finds those nodes and any tables that the nodes point to. It then reduces duplicates. "
   ],
   "metadata": {
    "collapsed": false
   },
   "id": "d1ff1498ed087853"
  },
  {
   "cell_type": "code",
   "execution_count": null,
   "outputs": [],
   "source": [
    "nodes_with_text, _ = graph.query('''\n",
    "match (n)\n",
    "where n.text is not null \n",
    "optional match (n)-[:REFERENCES]->(t) \n",
    "return n, t\n",
    "order by n.order desc\n",
    "''')\n",
    "\n",
    "print(len(nodes_with_text))\n",
    "\n",
    "def find_node(nodes, node):\n",
    "    for i, a_node in enumerate(nodes):\n",
    "        if a_node[0].element_id == node.element_id:\n",
    "            return i\n",
    "    return -1\n",
    "\n",
    "nodes_reduced = []\n",
    "for node in nodes_with_text:\n",
    "    i = find_node(nodes_reduced, node[0])\n",
    "    if i > -1:\n",
    "        nodes_reduced[i].append(node[1])\n",
    "    else:\n",
    "        nodes_reduced.append(node)\n",
    "\n",
    "print(len(nodes_reduced))\n",
    "\n",
    "nodes_with_text = nodes_reduced"
   ],
   "metadata": {
    "collapsed": false
   },
   "id": "5857a02617ceb1a3"
  },
  {
   "cell_type": "markdown",
   "source": [
    "## Define Helper Functions\n",
    "\n",
    "This cell contains some functions that will be useful later. "
   ],
   "metadata": {
    "collapsed": false
   },
   "id": "ebf57065f28943d0"
  },
  {
   "cell_type": "code",
   "execution_count": null,
   "outputs": [],
   "source": [
    "def replace_table(node_text: str, tables)->str:\n",
    "    \"\"\"\n",
    "    Replace table references with the actual text of the table. \n",
    "    \n",
    "    :param node_text: The text that is in the node. \n",
    "    :param tables: The list of table nodes that may appear in the text.\n",
    "    :return: The text with the table references replaced with table text.\n",
    "    \"\"\"\n",
    "    for table in tables:\n",
    "        node_text = node_text.replace(table, f'\\n{tables[table]}\\n')\n",
    "    return node_text\n",
    "        \n",
    "\n",
    "def nodes_to_text(nodes)->str:\n",
    "    \"\"\"\n",
    "    Turn a list of nodes into a text string that contains headers, text, and tables in places they are referenced. \n",
    "    \n",
    "    :param nodes: List of nodes, including associated tables.\n",
    "    :return: A string containing the headers, text, and tables in place. \n",
    "    \"\"\"\n",
    "    tables = {}\n",
    "    for node in nodes:\n",
    "        if node and node['table']:\n",
    "            tables[node['heading']] = f'''{node[\"heading\"]}: {node[\"name\"]}\n",
    "            {node[\"table\"]}\n",
    "            '''\n",
    "\n",
    "    text = ''\n",
    "    for node in nodes:\n",
    "        if node:\n",
    "            if node['table']:\n",
    "                continue\n",
    "            if node['heading']:\n",
    "                text += f'{node[\"heading\"]}: '\n",
    "            if node['name']:\n",
    "                text += f'{node[\"name\"]}'\n",
    "            if node['text']:\n",
    "                text += f'\\n{replace_table(node[\"text\"], tables)}'\n",
    "            text += '\\n\\n'\n",
    "    return text\n",
    "\n",
    "def parse_list(text:str):\n",
    "    \"\"\"\n",
    "    Parse a list from some text. It assumes each element in the list \n",
    "    starts with '*' or a number. Lines that don't start with one of \n",
    "    those characters will be ignored.\n",
    "    \n",
    "    :param text: String contain a list.\n",
    "    :return: A list of strings parsed from the text.\n",
    "    \"\"\"\n",
    "    lines = text.split('\\n')\n",
    "    return list(\n",
    "        map(lambda line: re.sub(r'^[*0-9][.]?', '', line).strip(),\n",
    "            filter(lambda line: re.match(r'^[*0-9]', line.strip()), lines))\n",
    "    )"
   ],
   "metadata": {
    "collapsed": false
   },
   "id": "66050e47a405c6b8"
  },
  {
   "cell_type": "markdown",
   "source": [
    "## Define Method to Call LLM\n",
    "\n",
    "This cell sets up to call Llama 3 using Ollama running locally. "
   ],
   "metadata": {
    "collapsed": false
   },
   "id": "2464b6497572c697"
  },
  {
   "cell_type": "code",
   "execution_count": null,
   "outputs": [],
   "source": [
    "ollama_model = 'llama3'\n",
    "def ask_llm(prompt:str)->str:\n",
    "    llm_response = ollama.generate(model=ollama_model, prompt=prompt)\n",
    "    return llm_response['response']"
   ],
   "metadata": {
    "collapsed": false
   },
   "id": "f33db50e3d40bcbe"
  },
  {
   "cell_type": "markdown",
   "source": [
    "This cell is setup to use OpenAI. It requires an API Key be defined in the environment. It is commented out, but provided for experimenting. It has not been extensively tested, you may need to refine the imports and so on."
   ],
   "metadata": {
    "collapsed": false
   },
   "id": "86866b88d119906e"
  },
  {
   "cell_type": "code",
   "execution_count": null,
   "outputs": [],
   "source": [
    "#!pip3 install langchain\n",
    "# from langchain_openai import ChatOpenAI\n",
    "\n",
    "# OPENAI_API_KEY = os.getenv('OPENAI_API_KEY')\n",
    "# \n",
    "# llm = ChatOpenAI(openai_api_key=OPENAI_API_KEY, model_name='gpt-4')\n",
    "\n",
    "# def ask_llm(prompt:str)->str:\n",
    "#     llm_response = llm.invoke(prompt)\n",
    "#     return llm_response.content"
   ],
   "metadata": {
    "collapsed": false
   },
   "id": "af7796e6acb5426e"
  },
  {
   "cell_type": "markdown",
   "source": [
    "## ASK ABOUT FUNCTIONS\n",
    "\n",
    "The first question asked is what is the JavaScript expression that would tell if the patient is in the section. "
   ],
   "metadata": {
    "collapsed": false
   },
   "id": "8d78aee3a1963157"
  },
  {
   "cell_type": "code",
   "execution_count": null,
   "outputs": [],
   "source": [
    "# Helper to remove Function nodes if you want to repeat the ask without completely deleting the graph. \n",
    "graph.wipe_label('Function')"
   ],
   "metadata": {
    "collapsed": false
   },
   "id": "ec89fbbaeefda2df"
  },
  {
   "cell_type": "code",
   "execution_count": null,
   "outputs": [],
   "source": [
    "def prompt_for_function(node_text):\n",
    "    return f'''\n",
    "Given the following section of a Clinical Practice Guideline.\n",
    "\n",
    "{node_text}\n",
    "\n",
    "Create a JavaScript expression that returns true if this section applies to a patient. Create only one expression for this section. Do not create a function. \n",
    "Be careful about compound medical concepts. Blood pressure is made up of two components, systolic and diastolic, so the expression should compare them separately. For example, if the section applies to patients whose BP is greater than 130/80 then the expression should say:\n",
    "    (systolic_blood_pressure > 130 && diastolic_blood_pressure > 80)\n",
    "Be careful to consider age of the patient if needed. For example, if the section says it patients under 13 should use 120/70 but patients over 13 should 130/80 then the expression should be: \n",
    "    (age < 13 && (systolic_blood_pressure > 120 && diastolic_blood_pressure > 70)) || (age >= 13 && (systolic_blood_pressure > 130 && diastolic_blood_pressure > 80))\n",
    "    \n",
    "If an age range calls for percentiles, use the numbers from the other age range. For example, if the section says it patients under 13 should use 90th percentile but patients over 13 should 130/80 then the expression should be: \n",
    "    (age < 13 && (systolic_blood_pressure > 130 && diastolic_blood_pressure > 80)) || (age >= 13 && (systolic_blood_pressure > 130 && diastolic_blood_pressure > 80))\n",
    "    \n",
    "Make sure to include upper and lower bounds. For example, if the section applies to BP of 120/70 to 130/80 then the expression should say:\n",
    "    ((systolic_blood_pressure >= 120 && diastolic_blood_pressure >= 70) && (systolic_blood_pressure < 130 && diastolic_blood_pressure < 80))\n",
    "    \n",
    "For example, if the section is for \"Stage 1 HTN\" then the expression should be:\n",
    "    (age < 13 && (((systolic_blood_pressure >= 130 && diastolic_blood_pressure >= 80) && (systolic_blood_pressure < 140 && diastolic_blood_pressure < 90)))) && (age >= 13 && (((systolic_blood_pressure >= 130 && diastolic_blood_pressure >= 80) && (systolic_blood_pressure < 140 && diastolic_blood_pressure < 90))))\n",
    "    \n",
    "For example, if the section is for \"Normal BP\", which has no lower bound, then the expression should be:\n",
    "    (age < 13 && (systolic_blood_pressure <= 120 && diastolic_blood_pressure <= 80)) && (age >= 13 && (systolic_blood_pressure <= 120 && diastolic_blood_pressure <= 80))\n",
    "    \n",
    "Please answer with only the expression, do not include description or tell me that this is the expression. Only show me the Javascript.\n",
    "'''\n",
    "\n",
    "def create_function(function, parent_node, _graph:NEO4J_Graph.Graph):\n",
    "    cypher = f'''\n",
    "        match (parent) \n",
    "        where elementId(parent) = '{parent_node.element_id}'\n",
    "        create (parent)-[:FUNCTION]->(:Function {{name: '{_graph.escape_string(function)}', function: '{_graph.escape_string(function)}'}})\n",
    "    '''\n",
    "    _graph.query(cypher)\n",
    "\n",
    "print(graph.database_metrics())\n",
    "for node_group in nodes_with_text:\n",
    "    node_text = nodes_to_text(node_group)\n",
    "    prompt = prompt_for_function(node_text)\n",
    "    # print('PROMPT:')\n",
    "    # print(prompt)\n",
    "    answer = ask_llm(prompt)\n",
    "    print('\\nANSWER:')\n",
    "    print(answer)\n",
    "    print('\\n------\\n\\n')\n",
    "    create_function(answer, node_group[0], graph)\n",
    "print(graph.database_metrics())"
   ],
   "metadata": {
    "collapsed": false
   },
   "id": "3f4b4b88ccaaeb68"
  },
  {
   "cell_type": "markdown",
   "source": [
    "## ASK ABOUT INPUTS to FUNCTIONS\n",
    "\n",
    "The second question is to ask what are the inputs to the functions captured above. "
   ],
   "metadata": {
    "collapsed": false
   },
   "id": "60898d6b5057dd9d"
  },
  {
   "cell_type": "code",
   "execution_count": null,
   "outputs": [],
   "source": [
    "# Helper to remove Input nodes if you want to repeat the ask without completely deleting the graph.\n",
    "graph.wipe_label('Input')"
   ],
   "metadata": {
    "collapsed": false
   },
   "id": "c829f5b3ec6f717e"
  },
  {
   "cell_type": "code",
   "execution_count": null,
   "outputs": [],
   "source": [
    "function_nodes, _ = graph.query('''\n",
    "match (n:Function)\n",
    "return n\n",
    "''')\n",
    "\n",
    "def prompt_for_inputs_for_functions(node_text):\n",
    "    return f'''\n",
    "The following is an expression that determines if a patient qualifies for a section of a Clinical Practice Guideline:\n",
    "\n",
    "{node_text}\n",
    "\n",
    "Please tell me the list of variables needed to evaluate this expression and the associated human readable question to ask the data. \n",
    "The results should be in a list with \n",
    "  * \"variable_name\": \"question\"\n",
    "for example, if the expression requires patient_height, the result should include:\n",
    "  * patient_height: What is the height of the patient?\n",
    "\n",
    "The list should only be based on what is explicitly called for in the expression.\n",
    "Questions should be as short as possible. Do not include any reasons or explanations.\n",
    "Please do not use any abbreviations in the questions, so BP should be blood pressure. \n",
    "'''\n",
    "\n",
    "def create_inputs_for_functions(names, parent_node, _graph:NEO4J_Graph.Graph):\n",
    "    for name in names:\n",
    "        split_name = name.split(\":\")\n",
    "        cypher = f'''\n",
    "            match (parent) \n",
    "            where elementId(parent) = '{parent_node.element_id}'\n",
    "            create (parent)<-[:INPUT]-(:Input {{name: '{_graph.escape_string(split_name[0].strip())}', question: '{_graph.escape_string(split_name[1].strip())}'}})\n",
    "        '''\n",
    "        _graph.query(cypher)\n",
    "\n",
    "print(graph.database_metrics())\n",
    "for function_node in function_nodes:\n",
    "    prompt = prompt_for_inputs_for_functions(function_node[0][\"function\"])\n",
    "    # print('PROMPT:')\n",
    "    # print(prompt)\n",
    "    answer = ask_llm(prompt)\n",
    "    print('\\nANSWER:')\n",
    "    print(answer)\n",
    "    print('\\n------\\n\\n')\n",
    "    input_list = parse_list(answer)\n",
    "    create_inputs_for_functions(input_list, function_node[0], graph)\n",
    "print(graph.database_metrics())"
   ],
   "metadata": {
    "collapsed": false
   },
   "id": "5c09b262ae48d7bf"
  },
  {
   "cell_type": "markdown",
   "source": [
    "## ASK TO REDUCE INPUTS and GIVE HUMAN READABLE QUESTION\n",
    "\n",
    "This section asks the LLM to reduce the list from every function into a smaller list of global inputs. At the sametime it asks the LLM to generate a human readable question that asks for the value of that input. "
   ],
   "metadata": {
    "collapsed": false
   },
   "id": "118bffad37901f85"
  },
  {
   "cell_type": "code",
   "execution_count": null,
   "outputs": [],
   "source": [
    "# Helper to remove Global Input nodes if you want to repeat the ask without completely deleting the graph.\n",
    "graph.wipe_label('GlobalInput')"
   ],
   "metadata": {
    "collapsed": false
   },
   "id": "33d9d3a5b5eb1e5a"
  },
  {
   "cell_type": "code",
   "execution_count": null,
   "outputs": [],
   "source": [
    "input_nodes, _ = graph.query('''\n",
    "match (n:Input)\n",
    "return n\n",
    "''')\n",
    "\n",
    "root_node, _ = graph.query('''\n",
    "match (n:Header1)\n",
    "return n\n",
    "''')\n",
    "\n",
    "root_node = root_node[0][0]\n",
    "\n",
    "def create_global_inputs_for_functions(questions, parent_node, _graph:NEO4J_Graph.Graph):\n",
    "    for question in questions:\n",
    "        split_question = question.split(\":\")\n",
    "        cypher = f'''\n",
    "            match (parent) \n",
    "            where elementId(parent) = '{parent_node.element_id}'\n",
    "            create (parent)<-[:GLOBAL_INPUT]-(:GlobalInput {{name: '{_graph.escape_string(split_question[0].strip())}', question: '{_graph.escape_string(split_question[1].strip())}'}})\n",
    "        '''\n",
    "        _graph.query(cypher)\n",
    "\n",
    "inputs = ''\n",
    "for input_node in input_nodes:\n",
    "    inputs += f'* {input_node[0][\"name\"]}: {input_node[0][\"question\"]}\\n'\n",
    "\n",
    "print('\\nINPUTS:')\n",
    "print(inputs)\n",
    "print('\\n------\\n\\n')\n",
    "\n",
    "prompt_for_in_list = f'''\n",
    "The following is a list of questions:\n",
    "{inputs}\n",
    "Please remove the duplicates from this list.\n",
    "Also, consider duplicates that are close in concept, such as \"how old\" and \"age\".\n",
    "The results should be in a list with \n",
    "  * \"variable_name\": \"question\"\n",
    "for example, if the expression requires patient_height, the result should include:\n",
    "  * patient_height: What is the height of the patient?\n",
    "Please do not add questions, only return questions from the list.\n",
    "'''\n",
    "\n",
    "print(graph.database_metrics())\n",
    "response = ask_llm(prompt_for_in_list)\n",
    "print('\\nANSWER:')\n",
    "print(response)\n",
    "print('\\n------\\n\\n')\n",
    "input_list = parse_list(response)\n",
    "create_global_inputs_for_functions(input_list, root_node, graph)\n",
    "print(graph.database_metrics())\n"
   ],
   "metadata": {
    "collapsed": false
   },
   "id": "61763efedc2c001e"
  },
  {
   "cell_type": "markdown",
   "source": [
    "## ASK ABOUT OUTPUTS\n",
    "\n",
    "In this section we ask about what steps should be taken if a patient falls in a section of the CPG. "
   ],
   "metadata": {
    "collapsed": false
   },
   "id": "3b60ab50aa1641f9"
  },
  {
   "cell_type": "code",
   "execution_count": null,
   "outputs": [],
   "source": [
    "# Helper to remove Output nodes if you want to repeat the ask without completely deleting the graph.\n",
    "graph.wipe_label('Output')"
   ],
   "metadata": {
    "collapsed": false
   },
   "id": "f61c3c7001b06d6"
  },
  {
   "cell_type": "code",
   "execution_count": null,
   "outputs": [],
   "source": [
    "def prompt_for_output(node_text):\n",
    "    return f'''\n",
    "Given the following section of a Clinical Practice Guideline.\n",
    "\n",
    "{node_text}\n",
    "\n",
    "Assuming this section of the guideline applies to a patient, please list the actions that should be taken?\n",
    "The list should be in the form of:\n",
    " 1. do this\n",
    " 2. do that\n",
    " \n",
    "Items in the list should be as short as possible. Do not explain.\n",
    "Please keep the list as short as you can. \n",
    "Do not invent anything not in the supplied guideline section. In other words only include actions indicated in the supplied text.  \n",
    "'''\n",
    "\n",
    "def create_output(actions, parent_node, _graph:NEO4J_Graph.Graph):\n",
    "    for i, action in enumerate(actions):\n",
    "        cypher = f'''\n",
    "            match (parent) \n",
    "            where elementId(parent) = '{parent_node.element_id}'\n",
    "            create (parent)-[:OUTPUT]->(:Output {{name: '{_graph.escape_string(action)}', order: {i}, output: '{_graph.escape_string(action)}'}})\n",
    "        '''\n",
    "        _graph.query(cypher)\n",
    "\n",
    "print(graph.database_metrics())\n",
    "for node_group in nodes_with_text:\n",
    "    prompt = prompt_for_output(nodes_to_text(node_group))\n",
    "    # print('PROMPT:')\n",
    "    # print(prompt)\n",
    "    answer = ask_llm(prompt)\n",
    "    print('\\nANSWER:')\n",
    "    print(answer)\n",
    "    print('\\n------\\n\\n')\n",
    "    list_actions = parse_list(answer)\n",
    "    create_output(list_actions, node_group[0], graph)\n",
    "print(graph.database_metrics())"
   ],
   "metadata": {
    "collapsed": false
   },
   "id": "a01322efb7e096a3"
  },
  {
   "cell_type": "markdown",
   "source": [
    "**Disclaimer:** Nothing provided here is guaranteed or warrantied to work. It is provided as is and has not been tested extensively. Using this notebook is at the risk of the user. Further, it is provided for research only and should not be used for treatment. \n",
    "\n",
    "Copyright &copy; 2024 Sam Schifman"
   ],
   "metadata": {
    "collapsed": false
   },
   "id": "e1945952b367bdaf"
  }
 ],
 "metadata": {
  "kernelspec": {
   "display_name": "Python 3",
   "language": "python",
   "name": "python3"
  },
  "language_info": {
   "codemirror_mode": {
    "name": "ipython",
    "version": 2
   },
   "file_extension": ".py",
   "mimetype": "text/x-python",
   "name": "python",
   "nbconvert_exporter": "python",
   "pygments_lexer": "ipython2",
   "version": "2.7.6"
  }
 },
 "nbformat": 4,
 "nbformat_minor": 5
}
