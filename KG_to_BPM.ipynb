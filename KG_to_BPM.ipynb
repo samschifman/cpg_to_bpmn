{
 "cells": [
  {
   "cell_type": "markdown",
   "source": [
    "# Extract BPMN from Knowledge Graph\n",
    "\n",
    "This script creates a BPMN XML file from the nodes in the Knowledge Graph. It assumes that the user has run `./CPG_to_KG.ipynb` first. **Please** see there for setup of Neo4J and Jupyter Environment.\n",
    "\n",
    "## Disclaimer\n",
    "Nothing provided here is guaranteed or warrantied to work. It is provided as is. Using this notebook is at the risk of the user. \n",
    "\n",
    "The CPG used is published by the American Academy of Pediatrics and is solly their product. Nothing here should be inferred to supersede what it says. \n",
    "\n",
    "**Nothing here should be used for delivering care.** It is in no way certified by any credited medical organization or professional. It is provided solly for research purposes.\n",
    "\n",
    "## Setup\n",
    "\n",
    "In addition to the instructions from `./CPG_to_KG.ipynb`, you will also need to create a local folder called `./working`. This folder is ignored by git and is where the resulting BPMN XML will be written. \n"
   ],
   "metadata": {
    "collapsed": false
   },
   "id": "156ec6b16830e3b9"
  },
  {
   "cell_type": "markdown",
   "source": [
    "## Import Python Libraries"
   ],
   "metadata": {
    "collapsed": false
   },
   "id": "28c41893e9de16ec"
  },
  {
   "cell_type": "code",
   "execution_count": null,
   "id": "initial_id",
   "metadata": {
    "collapsed": true
   },
   "outputs": [],
   "source": [
    "import os\n",
    "import uuid\n",
    "\n",
    "import NEO4J_Graph"
   ]
  },
  {
   "cell_type": "markdown",
   "source": [
    "## Connect to the Graph DB"
   ],
   "metadata": {
    "collapsed": false
   },
   "id": "17710a674982189f"
  },
  {
   "cell_type": "code",
   "execution_count": null,
   "outputs": [],
   "source": [
    "NEO4J_URI = os.getenv('CPG_URL')\n",
    "USERNAME = os.getenv('CPG_USER')\n",
    "PASSWORD = os.getenv('CPG_PASSWORD')\n",
    "DATABASE = os.getenv('CPG_DATABASE')\n",
    "\n",
    "graph = NEO4J_Graph.Graph(NEO4J_URI, USERNAME, PASSWORD, DATABASE)"
   ],
   "metadata": {
    "collapsed": false
   },
   "id": "291822c85b36f8f6"
  },
  {
   "cell_type": "markdown",
   "source": [
    "## Define Helper Functions"
   ],
   "metadata": {
    "collapsed": false
   },
   "id": "6776597d3580b825"
  },
  {
   "cell_type": "code",
   "execution_count": null,
   "outputs": [],
   "source": [
    "def escape(str_xml:str)->str:\n",
    "    \"\"\"\n",
    "    Escape a string so that it can be put in XML without causing issues.  \n",
    "    \"\"\"\n",
    "    str_xml = str_xml.replace(\"&\", \"&amp;\")\n",
    "    str_xml = str_xml.replace(\"<\", \"&lt;\")\n",
    "    str_xml = str_xml.replace(\">\", \"&gt;\")\n",
    "    str_xml = str_xml.replace(\"\\\"\", \"&quot;\")\n",
    "    str_xml = str_xml.replace(\"'\", \"&apos;\")\n",
    "    return str_xml\n",
    "\n",
    "def feel_express(str_xml:str)->str:\n",
    "    \"\"\"\n",
    "    Convert from JavaScript expression to a FEEL expression. \n",
    "    \"\"\"\n",
    "    str_xml = str_xml.replace(\"&&\", \"and\")\n",
    "    str_xml = str_xml.replace(\"||\", \"or\")\n",
    "    str_xml = str_xml.replace(\";\", \"\")\n",
    "    return str_xml\n",
    "\n",
    "class BpmnData:\n",
    "    \"\"\"\n",
    "    Helper class to capture elements that will need to referred to multiple times.\n",
    "    \"\"\"\n",
    "    def __init__(self, name:str, question:str):\n",
    "        self.name = name\n",
    "        self.question = question\n",
    "        self.ext_id = f'_{str(uuid.uuid4())}'\n",
    "        self.int_id = f'_{str(uuid.uuid4())}'\n",
    "        self.obj_id = f'_{str(uuid.uuid4())}'\n",
    "        self.obj_ref_id = f'_{str(uuid.uuid4())}'"
   ],
   "metadata": {
    "collapsed": false
   },
   "id": "342ba79e00b6aee8"
  },
  {
   "cell_type": "markdown",
   "source": [
    "## Write the BPMN XML\n",
    "\n",
    "This cell does all the work. "
   ],
   "metadata": {
    "collapsed": false
   },
   "id": "3fae858c4d755fe2"
  },
  {
   "cell_type": "code",
   "execution_count": null,
   "outputs": [],
   "source": [
    "# Boilerplate XML stuff\n",
    "KN_BPMN = '''<?xml version=\"1.0\" encoding=\"UTF-8\"?>\n",
    "<bpmn2:definitions xmlns:xsi=\"http://www.w3.org/2001/XMLSchema-instance\" xmlns=\"http://www.omg.org/bpmn20\"  xmlns:trisobpmn=\"http://www.trisotech.com/2014/triso/bpmn\" xmlns:triso=\"http://www.trisotech.com/2015/triso/modeling\" xmlns:bpmn2=\"http://www.omg.org/spec/BPMN/20100524/MODEL\" exporterVersion=\"2.0\" targetNamespace=\"http://www.omg.org/bpmn20\" xmlns:feel=\"https://www.omg.org/spec/DMN/20230324/FEEL/\">'''\n",
    "\n",
    "# A definition of a number type to for inputs.\n",
    "number_item_def_id = f'_{str(uuid.uuid4())}'\n",
    "KN_BPMN += f'''\n",
    "    <bpmn2:itemDefinition id=\"{number_item_def_id}\" triso:readOnly=\"false\" isCollection=\"false\" triso:basicType=\"false\" structureRef=\"feel:number\" triso:definitionType=\"http://www.trisotech.com/2015/triso/modeling/ItemDefinitionType\" triso:name=\"Item Definition Number\"/>'''\n",
    "\n",
    "# Start the process\n",
    "KN_BPMN += '''\n",
    "    <bpmn2:process id=\"kn_to_bpmn\" name=\"CPG as BPMN\" isExecutable=\"true\" processType=\"Public\">'''\n",
    "\n",
    "# Load the global inputs and convert them to BpmnData objects\n",
    "cypher = '''\n",
    "match (input:GlobalInput) return input\n",
    "'''\n",
    "global_inputs, _ = graph.query(cypher)\n",
    "\n",
    "bpmn_datas = []\n",
    "for global_input in global_inputs:\n",
    "    bpmn_datas.append(BpmnData(global_input[0]['name'], global_input[0]['question']))\n",
    "\n",
    "# Define the global inputs within the XML\n",
    "KN_BPMN += f'''\n",
    "    <bpmn2:ioSpecification>'''\n",
    "\n",
    "for data in bpmn_datas:\n",
    "    KN_BPMN += f'''\n",
    "        <bpmn2:dataInput name=\"{escape(data.question)}\" itemSubjectRef=\"{number_item_def_id}\" isCollection=\"false\" id=\"{data.ext_id}\" />'''\n",
    "\n",
    "\n",
    "input_set_id = f'_{str(uuid.uuid4())}'\n",
    "KN_BPMN += f'''\n",
    "        <bpmn2:inputSet id=\"{input_set_id}\">'''\n",
    "for data in bpmn_datas:\n",
    "    KN_BPMN += f'''\n",
    "            <bpmn2:dataInputRefs>{data.ext_id}</bpmn2:dataInputRefs>'''\n",
    "KN_BPMN += f'''\n",
    "        </bpmn2:inputSet>'''\n",
    "\n",
    "KN_BPMN += f'''\n",
    "        <bpmn2:outputSet/>'''\n",
    "KN_BPMN += f'''\n",
    "    </bpmn2:ioSpecification>'''\n",
    "\n",
    "# Start Event for the root node\n",
    "cypher = '''\n",
    "match (root:Header1) return root\n",
    "'''\n",
    "root, _ = graph.query(cypher)\n",
    "\n",
    "root = root[0][0]\n",
    "\n",
    "start_id = f'_{str(uuid.uuid4())}'\n",
    "KN_BPMN += f'''\n",
    "    <bpmn2:startEvent id=\"{start_id}\" name=\"{escape(root['name'])}\"/>'''\n",
    "\n",
    "\n",
    "# Find all the header 2 nodes that are the stages\n",
    "cypher = f'''\n",
    "match (parent)-[]-(node:Header2)\n",
    "where elementId(parent) = '{root.element_id}'\n",
    "return node\n",
    "order by node.order\n",
    "'''\n",
    "headers,_ = graph.query(cypher)\n",
    "\n",
    "# Figure out the combined expression to stage the patient.\n",
    "calc = ''\n",
    "for header in headers:\n",
    "    header = header[0]\n",
    "\n",
    "    cypher = f'''\n",
    "    match (parent)-[:FUNCTION]->(func:Function)\n",
    "    where elementId(parent) = '{header.element_id}'\n",
    "    return func\n",
    "    '''\n",
    "    func,_ = graph.query(cypher)\n",
    "    func = func[0][0]\n",
    "    \n",
    "    if (len(calc) > 0):\n",
    "        calc += '\\n else '\n",
    "    calc += f'''if ({func['name']}) then \"{header['name']}\"'''\n",
    "\n",
    "calc += '\\n else \"Unknown\"'   \n",
    "calc = feel_express(calc)\n",
    "\n",
    "# Create Script Task for the staging calculation\n",
    "calc_id = f'_{str(uuid.uuid4())}'\n",
    "KN_BPMN += f'''\n",
    "        <bpmn2:scriptTask id=\"{calc_id}\" name=\"Stage\" triso:unparsed=\"false\" scriptFormat=\"application/feel\">'''\n",
    "\n",
    "KN_BPMN += f'''\n",
    "            <bpmn2:ioSpecification>'''\n",
    "\n",
    "# Map global inputs into the Script Task\n",
    "for data in bpmn_datas:\n",
    "    KN_BPMN += f'''\n",
    "                <bpmn2:dataInput name=\"{escape(data.name)}\" itemSubjectRef=\"{number_item_def_id}\" isCollection=\"false\" id=\"{data.int_id}\" />'''\n",
    "\n",
    "\n",
    "input_set_id = f'_{str(uuid.uuid4())}'\n",
    "KN_BPMN += f'''\n",
    "                <bpmn2:inputSet id=\"{input_set_id}\">'''\n",
    "for data in bpmn_datas:\n",
    "    KN_BPMN += f'''\n",
    "                    <bpmn2:dataInputRefs>{data.int_id}</bpmn2:dataInputRefs>'''\n",
    "KN_BPMN += f'''\n",
    "                </bpmn2:inputSet>'''\n",
    "\n",
    "output = BpmnData('Stage', 'What stage is it?')\n",
    "output_set_id = f'_{str(uuid.uuid4())}'\n",
    "KN_BPMN += f'''\n",
    "                <bpmn2:dataOutput name=\"Stage\" triso:readOnly=\"false\" itemSubjectRef=\"_triso-default-bpmnItemDefinition-string_id\" isCollection=\"false\" triso:hidden=\"false\" id=\"{output.int_id}\"/>\n",
    "                <bpmn2:outputSet id=\"{output_set_id}\">\n",
    "                    <bpmn2:dataOutputRefs>{output.int_id}</bpmn2:dataOutputRefs>\n",
    "                </bpmn2:outputSet>'''\n",
    "KN_BPMN += f'''\n",
    "            </bpmn2:ioSpecification>'''\n",
    "\n",
    "for data in bpmn_datas:\n",
    "    association_id = f'_{str(uuid.uuid4())}'\n",
    "    KN_BPMN += f'''\n",
    "            <bpmn2:dataInputAssociation id=\"{association_id}\">\n",
    "                <bpmn2:sourceRef>{data.ext_id}</bpmn2:sourceRef>\n",
    "                <bpmn2:targetRef>{data.int_id}</bpmn2:targetRef>\n",
    "            </bpmn2:dataInputAssociation>'''\n",
    "\n",
    "KN_BPMN += f'''\n",
    "            <bpmn2:dataOutputAssociation id=\"_{str(uuid.uuid4())}\">\n",
    "                <bpmn2:sourceRef>{output.int_id}</bpmn2:sourceRef>\n",
    "                <bpmn2:targetRef>{output.ext_id}</bpmn2:targetRef>\n",
    "            </bpmn2:dataOutputAssociation>\n",
    "            <bpmn2:script><![CDATA[{calc}]]></bpmn2:script>\n",
    "        </bpmn2:scriptTask>'''\n",
    "\n",
    "# Create a Data Object to capture the output from Script Task\n",
    "KN_BPMN += f'''\n",
    "        <bpmn2:dataObject id=\"{output.obj_id}\" name=\"{output.name}\" triso:readOnly=\"false\" itemSubjectRef=\"_triso-default-bpmnItemDefinition-string_id\" isCollection=\"false\"/>\n",
    "        <bpmn2:dataObjectReference id=\"{output.ext_id}\" name=\"{output.name}\" triso:readOnly=\"false\" dataObjectRef=\"{output.obj_id}\"/>'''\n",
    "\n",
    "# Connect the Start Event to the Script Task\n",
    "flow_id = f'_{str(uuid.uuid4())}'\n",
    "KN_BPMN += f'''\n",
    "    <bpmn2:sequenceFlow id=\"{flow_id}\" sourceRef=\"{start_id}\"  targetRef=\"{calc_id}\"/>'''\n",
    "\n",
    "# Create an Exclusive Gateway to handle the results of the Script Task\n",
    "gateway_id = f'_{str(uuid.uuid4())}'\n",
    "KN_BPMN += f'''\n",
    "    <bpmn2:exclusiveGateway id=\"{gateway_id}\" gatewayDirection=\"Diverging\"/>'''\n",
    "\n",
    "# Connect the Script Task with the Gateway\n",
    "flow_id = f'_{str(uuid.uuid4())}'\n",
    "KN_BPMN += f'''\n",
    "    <bpmn2:sequenceFlow id=\"{flow_id}\" sourceRef=\"{calc_id}\"  targetRef=\"{gateway_id}\"/>'''\n",
    "\n",
    "# Create a path per header\n",
    "for header in headers:\n",
    "    header = header[0]\n",
    "\n",
    "    # Find all the outputs for this section\n",
    "    cypher = f'''\n",
    "    match (parent)-[:OUTPUT]->(out:Output)\n",
    "    where elementId(parent) = '{header.element_id}'\n",
    "    return out\n",
    "    order by out.order\n",
    "    '''\n",
    "    outs,_ = graph.query(cypher)\n",
    "    \n",
    "    # Create a task for the first output\n",
    "    out = outs[0][0]\n",
    "    header_id = f'_{str(uuid.uuid4())}'\n",
    "    KN_BPMN += f'''\n",
    "        <bpmn2:task id=\"{header_id}\" name=\"{escape(out['output'])}\">\n",
    "          <bpmn2:documentation id=\"{f'_{str(uuid.uuid4())}'}\"><![CDATA[{out['output']}]]></bpmn2:documentation>\n",
    "        </bpmn2:task>'''\n",
    "    \n",
    "    # Connect the first output to the Gateway with the right expression\n",
    "    stage_id = f'_{str(uuid.uuid4())}'\n",
    "    KN_BPMN += f'''\n",
    "        <bpmn2:sequenceFlow id=\"{stage_id}\"  name=\"{escape(header['name'])}\" sourceRef=\"{gateway_id}\"  targetRef=\"{header_id}\">\n",
    "            <bpmn2:conditionExpression language=\"https://www.omg.org/spec/DMN/20230324/FEEL/\" triso:unparsed=\"false\" xsi:type=\"bpmn2:tFormalExpression\"><![CDATA[{output.name} = \"{header['name']}\"]]></bpmn2:conditionExpression>\n",
    "        </bpmn2:sequenceFlow>'''\n",
    "    \n",
    "    # Add any other outputs after the first one\n",
    "    if len(outs) > 1:\n",
    "        for i in range(1, len(outs)):\n",
    "            out = outs[i][0]\n",
    "            last_header_id = header_id\n",
    "            header_id = f'_{str(uuid.uuid4())}'\n",
    "            KN_BPMN += f'''\n",
    "        <bpmn2:task id=\"{header_id}\" name=\"{escape(out['output'])}\">\n",
    "          <bpmn2:documentation id=\"{f'_{str(uuid.uuid4())}'}\"><![CDATA[{out['output']}]]></bpmn2:documentation>\n",
    "        </bpmn2:task>'''\n",
    "\n",
    "            stage_id = f'_{str(uuid.uuid4())}'\n",
    "            KN_BPMN += f'''\n",
    "        <bpmn2:sequenceFlow id=\"{stage_id}\" sourceRef=\"{last_header_id}\"  targetRef=\"{header_id}\"/>'''\n",
    "            \n",
    "    # End each stages output list\n",
    "    end_id = f'_{str(uuid.uuid4())}'\n",
    "    flow_id = f'_{str(uuid.uuid4())}'\n",
    "    KN_BPMN += f'''\n",
    "        <bpmn2:endEvent id=\"{end_id}\"/>\n",
    "        <bpmn2:sequenceFlow id=\"{flow_id}\" sourceRef=\"{header_id}\"  targetRef=\"{end_id}\"/>'''\n",
    "\n",
    "# Close the xml tags\n",
    "KN_BPMN += '''\n",
    "  </bpmn2:process>\n",
    "</bpmn2:definitions>'''"
   ],
   "metadata": {
    "collapsed": false
   },
   "id": "efc5487b537362a1"
  },
  {
   "cell_type": "markdown",
   "source": [
    "## Write BPMN XML to File\n",
    "\n",
    "This cell outputs the XML to a file in the `./working` directory. "
   ],
   "metadata": {
    "collapsed": false
   },
   "id": "dc04d1faf70a711d"
  },
  {
   "cell_type": "code",
   "execution_count": null,
   "outputs": [],
   "source": [
    "with open('./working/cpg_as_bpm.bpmn', 'w') as file:\n",
    "    file.write(KN_BPMN)"
   ],
   "metadata": {
    "collapsed": false
   },
   "id": "69ac6bd8054d681d"
  },
  {
   "cell_type": "markdown",
   "source": [
    "**Disclaimer:** Nothing provided here is guaranteed or warrantied to work. It is provided as is and has not been tested extensively. Using this notebook is at the risk of the user. Further, it is provided for research only and should not be used for treatment. \n",
    "\n",
    "Copyright &copy; 2024 Sam Schifman"
   ],
   "metadata": {
    "collapsed": false
   },
   "id": "5cda83347e590c74"
  }
 ],
 "metadata": {
  "kernelspec": {
   "display_name": "Python 3",
   "language": "python",
   "name": "python3"
  },
  "language_info": {
   "codemirror_mode": {
    "name": "ipython",
    "version": 2
   },
   "file_extension": ".py",
   "mimetype": "text/x-python",
   "name": "python",
   "nbconvert_exporter": "python",
   "pygments_lexer": "ipython2",
   "version": "2.7.6"
  }
 },
 "nbformat": 4,
 "nbformat_minor": 5
}
